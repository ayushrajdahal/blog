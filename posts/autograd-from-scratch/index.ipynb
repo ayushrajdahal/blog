{
 "cells": [
  {
   "cell_type": "markdown",
   "metadata": {},
   "source": [
    "---\n",
    "title: \"A Deep Dive into PyTorch's Automatic Differentiation Engine\"\n",
    "author: \"Ayush Raj Dahal\"\n",
    "date: \"2023-10-11\"\n",
    "layout: post\n",
    "hide: false\n",
    "search_exclude: false\n",
    "toc: true\n",
    "categories: [Neural Networks, Machine Learning]\n",
    "image: \"image.jpg\"\n",
    "---"
   ]
  },
  {
   "cell_type": "markdown",
   "metadata": {},
   "source": [
    "In an attempt of understanding the underlying mechanism of PyTorch's autograd engine, I created its mini-version that does the same job, but on a much lower scale. This blog post explains the core ideas behind that project. This is mostly just to test my own understanding - yet again. Hopefully, by the end of this post, you will have a better understanding of Autograd and how to implement a simple autograd engine from scratch. This post assumes that you have a basic familiarity with Python and a little bit of Calculus."
   ]
  },
  {
   "cell_type": "markdown",
   "metadata": {},
   "source": [
    "## Contextualizing the Problem"
   ]
  },
  {
   "cell_type": "markdown",
   "metadata": {},
   "source": [
    "In order to understand the need of an Autograd engine, we will first need to understand what makes its existence relevant in the first place. Although it is commonly associated with Neural Networks - which is the only case we are concerned with really, it is actually a completely independent concept that has nothing to do with Neural Networks. It is the idea of computing derivatives of some variable with reference to all the variables that were used to result in that value."
   ]
  },
  {
   "cell_type": "markdown",
   "metadata": {},
   "source": [
    "If that didn't make any sense to you, don't worry about it. Stick with me, and I'll explain using visualizations and code."
   ]
  },
  {
   "cell_type": "markdown",
   "metadata": {},
   "source": [
    "### NumPy vs. PyTorch"
   ]
  },
  {
   "cell_type": "markdown",
   "metadata": {},
   "source": [
    "Other things that separate the two:\n",
    "\n",
    "- Parallel runtime & GPU usage\n",
    "- Data type restriction\n",
    "- What is a tensor, tensor vs. Array\n",
    "\n",
    "The main one that we're concerned with:\n",
    "\n",
    "- Automatic Differentiation Engine"
   ]
  },
  {
   "cell_type": "markdown",
   "metadata": {},
   "source": [
    "### References\n",
    "\n",
    "- "
   ]
  }
 ],
 "metadata": {
  "language_info": {
   "name": "python"
  }
 },
 "nbformat": 4,
 "nbformat_minor": 2
}
